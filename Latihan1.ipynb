{
 "cells": [
  {
   "cell_type": "code",
   "execution_count": 12,
   "id": "9347563f-dd50-4846-8dec-c67e8317500a",
   "metadata": {},
   "outputs": [
    {
     "name": "stdout",
     "output_type": "stream",
     "text": [
      "b'<?xml version=\"1.0\" encoding=\"UTF-8\" ?>\\n<!DOCTYPE eInfoResult PUBLIC \"-//NLM//DTD einfo 20190110//EN\" \"https://eutils.ncbi.nlm.nih.gov/eutils/dtd/20190110/einfo.dtd\">\\n<eInfoResult>\\n<DbList>\\n\\n\\t<DbName>pubmed</DbName>\\n\\t<DbName>protein</DbName>\\n\\t<DbName>nuccore</DbName>\\n\\t<DbName>ipg</DbName>\\n\\t<DbName>nucleotide</DbName>\\n\\t<DbName>structure</DbName>\\n\\t<DbName>genome</DbName>\\n\\t<DbName>annotinfo</DbName>\\n\\t<DbName>assembly</DbName>\\n\\t<DbName>bioproject</DbName>\\n\\t<DbName>biosample</DbName>\\n\\t<DbName>blastdbinfo</DbName>\\n\\t<DbName>books</DbName>\\n\\t<DbName>cdd</DbName>\\n\\t<DbName>clinvar</DbName>\\n\\t<DbName>gap</DbName>\\n\\t<DbName>gapplus</DbName>\\n\\t<DbName>grasp</DbName>\\n\\t<DbName>dbvar</DbName>\\n\\t<DbName>gene</DbName>\\n\\t<DbName>gds</DbName>\\n\\t<DbName>geoprofiles</DbName>\\n\\t<DbName>homologene</DbName>\\n\\t<DbName>medgen</DbName>\\n\\t<DbName>mesh</DbName>\\n\\t<DbName>ncbisearch</DbName>\\n\\t<DbName>nlmcatalog</DbName>\\n\\t<DbName>omim</DbName>\\n\\t<DbName>orgtrack</DbName>\\n\\t<DbName>pmc</DbName>\\n\\t<DbName>popset</DbName>\\n\\t<DbName>proteinclusters</DbName>\\n\\t<DbName>pcassay</DbName>\\n\\t<DbName>protfam</DbName>\\n\\t<DbName>biosystems</DbName>\\n\\t<DbName>pccompound</DbName>\\n\\t<DbName>pcsubstance</DbName>\\n\\t<DbName>seqannot</DbName>\\n\\t<DbName>snp</DbName>\\n\\t<DbName>sra</DbName>\\n\\t<DbName>taxonomy</DbName>\\n\\t<DbName>biocollections</DbName>\\n\\t<DbName>gtr</DbName>\\n</DbList>\\n\\n</eInfoResult>\\n'\n"
     ]
    }
   ],
   "source": [
    "from Bio import Entrez\n",
    "Entrez.email = \"localuser@localhost.localdomain\" #Mandatory! Can be replaced with your personal email.\n",
    "\n",
    "#creating handle\n",
    "handle = Entrez.einfo() #invoking Bio.Entrez.einfo()\n",
    "print(handle.read())\n",
    "handle.close() #always close your handle after you finish"
   ]
  },
  {
   "cell_type": "code",
   "execution_count": 14,
   "id": "a7522ae4-046e-492f-9e5f-017620dc029b",
   "metadata": {},
   "outputs": [
    {
     "name": "stdout",
     "output_type": "stream",
     "text": [
      "{'Count': '2907', 'RetMax': '20', 'RetStart': '0', 'IdList': ['2175759554', '2175759552', '1953439592', '1953439590', '1953439588', '1953439562', '1953439490', '1953439488', '1953439472', '1953439462', '2125445736', '2037041593', '1943405373', '1798159574', '1809655957', '1139714366', '1524072887', '1524072865', '1586229693', '77991021'], 'TranslationSet': [{'From': 'Megaptera novaeangliae', 'To': '\"Megaptera novaeangliae\"[Organism] OR Megaptera novaeangliae[All Fields]'}], 'TranslationStack': [{'Term': '\"Megaptera novaeangliae\"[Organism]', 'Field': 'Organism', 'Count': '2755', 'Explode': 'Y'}, {'Term': 'Megaptera novaeangliae[All Fields]', 'Field': 'All Fields', 'Count': '2907', 'Explode': 'N'}, 'OR', 'GROUP'], 'QueryTranslation': '\"Megaptera novaeangliae\"[Organism] OR Megaptera novaeangliae[All Fields]'}\n"
     ]
    }
   ],
   "source": [
    "from Bio import Entrez\n",
    "Entrez.email = \"localuser@localhost.localdomain\" #Mandatory\n",
    "\n",
    "#creating handle\n",
    "handle = Entrez.esearch(db=\"nuccore\", term=\"Megaptera novaeangliae\")\n",
    "record = Entrez.read(handle)\n",
    "print(record)\n",
    "handle.close()"
   ]
  },
  {
   "cell_type": "code",
   "execution_count": 15,
   "id": "8564d52b-26fd-4385-9ca9-2475d0d0ba62",
   "metadata": {},
   "outputs": [
    {
     "name": "stdout",
     "output_type": "stream",
     "text": [
      "{'Count': '7', 'RetMax': '7', 'RetStart': '0', 'IdList': ['1358104137', '289474238', '289474236', '289474234', '219560173', '62184326', '62086580'], 'TranslationSet': [{'From': 'Megaptera novaeangliae', 'To': '\"Megaptera novaeangliae\"[Organism] OR Megaptera novaeangliae[All Fields]'}], 'TranslationStack': [{'Term': '\"Megaptera novaeangliae\"[Organism]', 'Field': 'Organism', 'Count': '2755', 'Explode': 'Y'}, {'Term': 'Megaptera novaeangliae[All Fields]', 'Field': 'All Fields', 'Count': '2907', 'Explode': 'N'}, 'OR', 'GROUP', {'Term': 'ND1[All Fields]', 'Field': 'All Fields', 'Count': '152290', 'Explode': 'N'}, 'AND', 'GROUP'], 'QueryTranslation': '(\"Megaptera novaeangliae\"[Organism] OR Megaptera novaeangliae[All Fields]) AND ND1[All Fields]'}\n"
     ]
    }
   ],
   "source": [
    "from Bio import Entrez\n",
    "Entrez.email = \"localuser@localhost.localdomain\" #Mandatory\n",
    "\n",
    "#creating handle\n",
    "handle = Entrez.esearch(db=\"nuccore\", term=\"Megaptera novaeangliae ND1\")\n",
    "record = Entrez.read(handle)\n",
    "print(record)\n",
    "handle.close()"
   ]
  },
  {
   "cell_type": "code",
   "execution_count": 17,
   "id": "0ea7d339-961b-426f-a95f-d15d5d0517d1",
   "metadata": {},
   "outputs": [
    {
     "name": "stdout",
     "output_type": "stream",
     "text": [
      "LOCUS       GQ353292                 954 bp    DNA     linear   MAM 25-JUL-2016\n",
      "DEFINITION  Megaptera novaeangliae voucher GOM9084 NADH dehydrogenase subunit 1\n",
      "            (ND1) gene, partial cds; mitochondrial.\n",
      "ACCESSION   GQ353292\n",
      "VERSION     GQ353292.1\n",
      "KEYWORDS    .\n",
      "SOURCE      mitochondrion Megaptera novaeangliae (humpback whale)\n",
      "  ORGANISM  Megaptera novaeangliae\n",
      "            Eukaryota; Metazoa; Chordata; Craniata; Vertebrata; Euteleostomi;\n",
      "            Mammalia; Eutheria; Laurasiatheria; Artiodactyla; Whippomorpha;\n",
      "            Cetacea; Mysticeti; Balaenopteridae; Megaptera.\n",
      "REFERENCE   1  (bases 1 to 954)\n",
      "  AUTHORS   Jackson,J.A., Baker,C.S., Vant,M., Steel,D.J., Medrano-Gonzalez,L.\n",
      "            and Palumbi,S.R.\n",
      "  TITLE     Big and slow: phylogenetic estimates of molecular evolution in\n",
      "            baleen whales (suborder mysticeti)\n",
      "  JOURNAL   Mol. Biol. Evol. 26 (11), 2427-2440 (2009)\n",
      "   PUBMED   19648466\n",
      "REFERENCE   2  (bases 1 to 954)\n",
      "  AUTHORS   Jackson,J.A., Baker,C.S., Vant,M., Steel,D.J., Medrano-Gonzalez,L.\n",
      "            and Palumbi,S.R.\n",
      "  TITLE     Direct Submission\n",
      "  JOURNAL   Submitted (06-JUL-2009) Hatfield Marine Science Center, Oregon\n",
      "            State University, Marine Mammal Institute, 2030 SE Marine Science\n",
      "            Drive, Newport, OR 97365, USA\n",
      "FEATURES             Location/Qualifiers\n",
      "     source          1..954\n",
      "                     /organism=\"Megaptera novaeangliae\"\n",
      "                     /organelle=\"mitochondrion\"\n",
      "                     /mol_type=\"genomic DNA\"\n",
      "                     /specimen_voucher=\"GOM9084\"\n",
      "                     /db_xref=\"taxon:9773\"\n",
      "                     /haplotype=\"IJ\"\n",
      "                     /country=\"USA\"\n",
      "     gene            1..>954\n",
      "                     /gene=\"ND1\"\n",
      "     CDS             1..>954\n",
      "                     /gene=\"ND1\"\n",
      "                     /codon_start=1\n",
      "                     /transl_table=2\n",
      "                     /product=\"NADH dehydrogenase subunit 1\"\n",
      "                     /protein_id=\"ADC97769.1\"\n",
      "                     /translation=\"MFMINILTLILPILLAVAFLTLVERKILGYMQFRKGPNIVGPHG\n",
      "                     LLQPFADAIKLFTKEPLRPATSSTTMFIIAPVLALTLALTMWSPLPMPYPLINMNLGV\n",
      "                     LFMLAMSSLAVYSILWSGWASNSKYALIGALRAVAQTISYEVTLAIILLSVLLMNGSY\n",
      "                     TLSTLATTQEQLWLLIPSWPLAMMWFISTLAETNRAPFDLTEGESELVSGFNVEYAAG\n",
      "                     PFALFFLAEYANIIMMNMLTAILFLGTFYNPHNPELYTTNLIIKTLLLTMSFLWIRAS\n",
      "                     YPRFRYDQLMHLLWKNFLPLTLALCMWHISLPIMTASIPPQT\"\n",
      "ORIGIN      \n",
      "        1 atgtttataa ttaatattct aacactcatt ctccctatcc tcctagccgt agcattccta\n",
      "       61 acactagtag aacgcaaaat tctaggctac atgcaattcc gaaagggacc aaacatcgta\n",
      "      121 ggcccacatg gcttactcca acccttcgcc gatgcgatca aactattcac taaagaaccc\n",
      "      181 ctacgaccag ctacatcctc aactactata ttcatcattg caccagtact agccctaacc\n",
      "      241 ctagctctca ctatatgaag ccccctaccc ataccatatc ccctcatcaa cataaaccta\n",
      "      301 ggagtactat tcatactagc aatatccagc ctagccgtct actccatcct atgatccggc\n",
      "      361 tgagcctcca actcgaaata cgcactaatt ggagccctac gagcagtagc acaaacaatt\n",
      "      421 tcatatgaag taacactggc tatcatcctc ctatcagtac tcctaataaa tggctcctat\n",
      "      481 actttatcaa cactagccac aacacaagaa caattatgac tactaattcc atcatgaccc\n",
      "      541 ttagccataa tatgatttat ctccacttta gcagagacta accgagctcc tttcgaccta\n",
      "      601 acagaaggag aatcagaact cgtatcaggc ttcaacgtag aatacgcagc aggccctttc\n",
      "      661 gccctatttt tcctagcaga atatgccaac atcattataa tgaatatact tacagccatc\n",
      "      721 ttattcctag gaacattcta caacccccac aacccagaat tgtacacaac aaaccttatt\n",
      "      781 atcaaaacac tattactcac aatatccttt ctatgaattc gagcatccta tccccgattc\n",
      "      841 cgatatgacc aactaatgca cctactctga aaaaatttcc ttcccttaac actagccctt\n",
      "      901 tgcatgtgac atatctcgct accaatcata actgcaagta ttccccctca aaca\n",
      "//\n",
      "\n",
      "\n"
     ]
    }
   ],
   "source": [
    "from Bio import Entrez\n",
    "Entrez.email = \"localuser@localhost.localdomain\" #Mandatory\n",
    "\n",
    "#creating EFetch handle\n",
    "efetch_handle = Entrez.efetch(db=\"nuccore\", id=\"289474238\", rettype=\"gb\", retmode=\"text\")\n",
    "gbrecord = efetch_handle.read()\n",
    "print(gbrecord)"
   ]
  },
  {
   "cell_type": "code",
   "execution_count": 18,
   "id": "34941a98-cff0-42ad-8579-0a0d3c21dd7a",
   "metadata": {},
   "outputs": [
    {
     "name": "stdout",
     "output_type": "stream",
     "text": [
      ">GQ353292.1 Megaptera novaeangliae voucher GOM9084 NADH dehydrogenase subunit 1 (ND1) gene, partial cds; mitochondrial\n",
      "ATGTTTATAATTAATATTCTAACACTCATTCTCCCTATCCTCCTAGCCGTAGCATTCCTAACACTAGTAG\n",
      "AACGCAAAATTCTAGGCTACATGCAATTCCGAAAGGGACCAAACATCGTAGGCCCACATGGCTTACTCCA\n",
      "ACCCTTCGCCGATGCGATCAAACTATTCACTAAAGAACCCCTACGACCAGCTACATCCTCAACTACTATA\n",
      "TTCATCATTGCACCAGTACTAGCCCTAACCCTAGCTCTCACTATATGAAGCCCCCTACCCATACCATATC\n",
      "CCCTCATCAACATAAACCTAGGAGTACTATTCATACTAGCAATATCCAGCCTAGCCGTCTACTCCATCCT\n",
      "ATGATCCGGCTGAGCCTCCAACTCGAAATACGCACTAATTGGAGCCCTACGAGCAGTAGCACAAACAATT\n",
      "TCATATGAAGTAACACTGGCTATCATCCTCCTATCAGTACTCCTAATAAATGGCTCCTATACTTTATCAA\n",
      "CACTAGCCACAACACAAGAACAATTATGACTACTAATTCCATCATGACCCTTAGCCATAATATGATTTAT\n",
      "CTCCACTTTAGCAGAGACTAACCGAGCTCCTTTCGACCTAACAGAAGGAGAATCAGAACTCGTATCAGGC\n",
      "TTCAACGTAGAATACGCAGCAGGCCCTTTCGCCCTATTTTTCCTAGCAGAATATGCCAACATCATTATAA\n",
      "TGAATATACTTACAGCCATCTTATTCCTAGGAACATTCTACAACCCCCACAACCCAGAATTGTACACAAC\n",
      "AAACCTTATTATCAAAACACTATTACTCACAATATCCTTTCTATGAATTCGAGCATCCTATCCCCGATTC\n",
      "CGATATGACCAACTAATGCACCTACTCTGAAAAAATTTCCTTCCCTTAACACTAGCCCTTTGCATGTGAC\n",
      "ATATCTCGCTACCAATCATAACTGCAAGTATTCCCCCTCAAACA\n",
      "\n",
      "\n"
     ]
    }
   ],
   "source": [
    "from Bio import Entrez\n",
    "Entrez.email = \"localuser@localhost.localdomain\" #Mandatory\n",
    "\n",
    "#creating EFetch handle\n",
    "efetch_handle = Entrez.efetch(db=\"nuccore\", id=\"289474238\", rettype=\"fasta\", retmode=\"text\")\n",
    "gbrecord = efetch_handle.read()\n",
    "print(gbrecord)"
   ]
  },
  {
   "cell_type": "code",
   "execution_count": 19,
   "id": "9c070667-45f7-4448-9dd1-d209cb442849",
   "metadata": {},
   "outputs": [
    {
     "name": "stdout",
     "output_type": "stream",
     "text": [
      "Megaptera novaeangliae ND1.gbk Saved\n"
     ]
    }
   ],
   "source": [
    "import os # import os module for OS utilities\n",
    "from Bio import Entrez\n",
    "Entrez.email = \"localuser@localhost.localdomain\" #Mandatory! Can be replaced with your personal email.\n",
    "\n",
    "#creating EFetch handle\n",
    "filename = \"Megaptera novaeangliae ND1.gbk\" #up to you, but Genbank files always use *.gb or *.gbk\n",
    "\n",
    "#creating EFetch handle\n",
    "if not os.path.isfile(filename):\n",
    "    # Downloading file...\n",
    "    efetch_handle = Entrez.efetch(db=\"nuccore\", id=\"289474238\", rettype=\"gb\", retmode=\"text\")\n",
    "    output_file_handle = open(filename, \"w\")\n",
    "    output_file_handle.write(efetch_handle.read())\n",
    "    output_file_handle.close()\n",
    "    efetch_handle.close()\n",
    "    print((str(filename)) + \" Saved\")\n",
    "else:\n",
    "    print((str(filename)) + \" is existing. File cannot be saved!\")"
   ]
  },
  {
   "cell_type": "code",
   "execution_count": 20,
   "id": "661c588d-14b9-492c-9ad4-35ed8f590445",
   "metadata": {},
   "outputs": [
    {
     "name": "stdout",
     "output_type": "stream",
     "text": [
      "Megaptera novaeangliae ND1.fasta Saved\n"
     ]
    }
   ],
   "source": [
    "import os # import os module for OS utilities\n",
    "from Bio import Entrez\n",
    "Entrez.email = \"localuser@localhost.localdomain\" #Mandatory! Can be replaced with your personal email.\n",
    "\n",
    "#creating EFetch handle\n",
    "filename = \"Megaptera novaeangliae ND1.fasta\" #up to you, but Genbank files always use *.gb or *.gbk\n",
    "\n",
    "#creating EFetch handle\n",
    "if not os.path.isfile(filename):\n",
    "    # Downloading file...\n",
    "    efetch_handle = Entrez.efetch(db=\"nuccore\", id=\"289474238\", rettype=\"fasta\", retmode=\"text\")\n",
    "    output_file_handle = open(filename, \"w\")\n",
    "    output_file_handle.write(efetch_handle.read())\n",
    "    output_file_handle.close()\n",
    "    efetch_handle.close()\n",
    "    print((str(filename)) + \" Saved\")\n",
    "else:\n",
    "    print((str(filename)) + \" is existing. File cannot be saved!\")"
   ]
  },
  {
   "cell_type": "code",
   "execution_count": 22,
   "id": "e9b3d838-bfe2-49d8-907f-f3cfbefaf96d",
   "metadata": {},
   "outputs": [
    {
     "name": "stdout",
     "output_type": "stream",
     "text": [
      ">ND1|Megaptera novaeangliae voucher GOM9084 NADH dehydrogenase subunit 1 (ND1) gene, partial cds; mitochondrial\n",
      "ATGTTTATAATTAATATTCTAACACTCATTCTCCCTATCCTCCTAGCCGTAGCATTCCTAACACTAGTAGAACGCAAAATTCTAGGCTACATGCAATTCCGAAAGGGACCAAACATCGTAGGCCCACATGGCTTACTCCAACCCTTCGCCGATGCGATCAAACTATTCACTAAAGAACCCCTACGACCAGCTACATCCTCAACTACTATATTCATCATTGCACCAGTACTAGCCCTAACCCTAGCTCTCACTATATGAAGCCCCCTACCCATACCATATCCCCTCATCAACATAAACCTAGGAGTACTATTCATACTAGCAATATCCAGCCTAGCCGTCTACTCCATCCTATGATCCGGCTGAGCCTCCAACTCGAAATACGCACTAATTGGAGCCCTACGAGCAGTAGCACAAACAATTTCATATGAAGTAACACTGGCTATCATCCTCCTATCAGTACTCCTAATAAATGGCTCCTATACTTTATCAACACTAGCCACAACACAAGAACAATTATGACTACTAATTCCATCATGACCCTTAGCCATAATATGATTTATCTCCACTTTAGCAGAGACTAACCGAGCTCCTTTCGACCTAACAGAAGGAGAATCAGAACTCGTATCAGGCTTCAACGTAGAATACGCAGCAGGCCCTTTCGCCCTATTTTTCCTAGCAGAATATGCCAACATCATTATAATGAATATACTTACAGCCATCTTATTCCTAGGAACATTCTACAACCCCCACAACCCAGAATTGTACACAACAAACCTTATTATCAAAACACTATTACTCACAATATCCTTTCTATGAATTCGAGCATCCTATCCCCGATTCCGATATGACCAACTAATGCACCTACTCTGAAAAAATTTCCTTCCCTTAACACTAGCCCTTTGCATGTGACATATCTCGCTACCAATCATAACTGCAAGTATTCCCCCTCAAACA\n"
     ]
    }
   ],
   "source": [
    "from Bio import SeqIO\n",
    "\n",
    "GoI = \"ND1\"\n",
    "\n",
    "for genome in SeqIO.parse(\"Megaptera novaeangliae ND1.gbk\",\"genbank\"):\n",
    "    for gene in genome.features:\n",
    "        if gene.type != \"CDS\":\n",
    "            continue\n",
    "        if \"gene\" not in gene.qualifiers:\n",
    "            continue\n",
    "        if GoI not in gene.qualifiers[\"gene\"][0]:\n",
    "            continue\n",
    "    gene_seq = gene.extract(genome.seq)\n",
    "\n",
    "GoI_fasta = \">%s|%s\\n%s\" % (GoI, genome.description, gene_seq)\n",
    "print(GoI_fasta)"
   ]
  },
  {
   "cell_type": "code",
   "execution_count": 25,
   "id": "6ec591e2-9d49-416d-a25f-a02f34d1abe6",
   "metadata": {},
   "outputs": [],
   "source": [
    "from Bio import SeqIO\n",
    "\n",
    "GoI = \"ND1\"\n",
    "\n",
    "for genome in SeqIO.parse(\"Megaptera novaeangliae ND1.gbk\",\"genbank\"):\n",
    "    for gene in genome.features:\n",
    "        if gene.type != \"CDS\":\n",
    "            continue\n",
    "        if \"gene\" not in gene.qualifiers:\n",
    "            continue\n",
    "        if GoI not in gene.qualifiers[\"gene\"][0]:\n",
    "            continue\n",
    "    gene_seq = gene.extract(genome.seq)\n",
    "\n",
    "GoI_fasta = \">%s|%s\\n%s\" % (GoI, genome.description, gene_seq)\n",
    "with open(\"GoI_fasta.fasta\",\"w\") as f:\n",
    "    f.write(GoI_fasta)"
   ]
  },
  {
   "cell_type": "code",
   "execution_count": null,
   "id": "9ebf676e-a921-40c3-91a8-6040392c3a09",
   "metadata": {},
   "outputs": [],
   "source": []
  }
 ],
 "metadata": {
  "kernelspec": {
   "display_name": "Python 3 (ipykernel)",
   "language": "python",
   "name": "python3"
  },
  "language_info": {
   "codemirror_mode": {
    "name": "ipython",
    "version": 3
   },
   "file_extension": ".py",
   "mimetype": "text/x-python",
   "name": "python",
   "nbconvert_exporter": "python",
   "pygments_lexer": "ipython3",
   "version": "3.9.7"
  }
 },
 "nbformat": 4,
 "nbformat_minor": 5
}
